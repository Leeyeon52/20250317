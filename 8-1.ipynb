{
 "cells": [
  {
   "cell_type": "code",
   "execution_count": 33,
   "metadata": {},
   "outputs": [
    {
     "ename": "ConversionError",
     "evalue": "Failed to convert value(s) to axis units: Index(['목', '수', '화', '금', '월', '토', '일'], dtype='object', name='요일')",
     "output_type": "error",
     "traceback": [
      "\u001b[1;31m---------------------------------------------------------------------------\u001b[0m",
      "\u001b[1;31mValueError\u001b[0m                                Traceback (most recent call last)",
      "File \u001b[1;32mc:\\Users\\302-15\\anaconda3\\Lib\\site-packages\\matplotlib\\axis.py:1813\u001b[0m, in \u001b[0;36mAxis.convert_units\u001b[1;34m(self, x)\u001b[0m\n\u001b[0;32m   1812\u001b[0m \u001b[38;5;28;01mtry\u001b[39;00m:\n\u001b[1;32m-> 1813\u001b[0m     ret \u001b[38;5;241m=\u001b[39m \u001b[38;5;28mself\u001b[39m\u001b[38;5;241m.\u001b[39mconverter\u001b[38;5;241m.\u001b[39mconvert(x, \u001b[38;5;28mself\u001b[39m\u001b[38;5;241m.\u001b[39munits, \u001b[38;5;28mself\u001b[39m)\n\u001b[0;32m   1814\u001b[0m \u001b[38;5;28;01mexcept\u001b[39;00m \u001b[38;5;167;01mException\u001b[39;00m \u001b[38;5;28;01mas\u001b[39;00m e:\n",
      "File \u001b[1;32mc:\\Users\\302-15\\anaconda3\\Lib\\site-packages\\matplotlib\\category.py:49\u001b[0m, in \u001b[0;36mStrCategoryConverter.convert\u001b[1;34m(value, unit, axis)\u001b[0m\n\u001b[0;32m     48\u001b[0m \u001b[38;5;28;01mif\u001b[39;00m unit \u001b[38;5;129;01mis\u001b[39;00m \u001b[38;5;28;01mNone\u001b[39;00m:\n\u001b[1;32m---> 49\u001b[0m     \u001b[38;5;28;01mraise\u001b[39;00m \u001b[38;5;167;01mValueError\u001b[39;00m(\n\u001b[0;32m     50\u001b[0m         \u001b[38;5;124m'\u001b[39m\u001b[38;5;124mMissing category information for StrCategoryConverter; \u001b[39m\u001b[38;5;124m'\u001b[39m\n\u001b[0;32m     51\u001b[0m         \u001b[38;5;124m'\u001b[39m\u001b[38;5;124mthis might be caused by unintendedly mixing categorical and \u001b[39m\u001b[38;5;124m'\u001b[39m\n\u001b[0;32m     52\u001b[0m         \u001b[38;5;124m'\u001b[39m\u001b[38;5;124mnumeric data\u001b[39m\u001b[38;5;124m'\u001b[39m)\n\u001b[0;32m     53\u001b[0m StrCategoryConverter\u001b[38;5;241m.\u001b[39m_validate_unit(unit)\n",
      "\u001b[1;31mValueError\u001b[0m: Missing category information for StrCategoryConverter; this might be caused by unintendedly mixing categorical and numeric data",
      "\nThe above exception was the direct cause of the following exception:\n",
      "\u001b[1;31mConversionError\u001b[0m                           Traceback (most recent call last)",
      "Cell \u001b[1;32mIn[33], line 69\u001b[0m\n\u001b[0;32m     66\u001b[0m     plot_consumption(mean_consumption)\n\u001b[0;32m     68\u001b[0m \u001b[38;5;28;01mif\u001b[39;00m \u001b[38;5;18m__name__\u001b[39m \u001b[38;5;241m==\u001b[39m \u001b[38;5;124m\"\u001b[39m\u001b[38;5;124m__main__\u001b[39m\u001b[38;5;124m\"\u001b[39m:\n\u001b[1;32m---> 69\u001b[0m     main()\n",
      "Cell \u001b[1;32mIn[33], line 66\u001b[0m, in \u001b[0;36mmain\u001b[1;34m()\u001b[0m\n\u001b[0;32m     63\u001b[0m mean_consumption \u001b[38;5;241m=\u001b[39m get_mean_consumption(df)\n\u001b[0;32m     65\u001b[0m \u001b[38;5;66;03m# 그래프 그리기\u001b[39;00m\n\u001b[1;32m---> 66\u001b[0m plot_consumption(mean_consumption)\n",
      "Cell \u001b[1;32mIn[33], line 37\u001b[0m, in \u001b[0;36mplot_consumption\u001b[1;34m(mean_consumption)\u001b[0m\n\u001b[0;32m     34\u001b[0m sorted_mean\u001b[38;5;241m.\u001b[39mplot(kind\u001b[38;5;241m=\u001b[39m\u001b[38;5;124m'\u001b[39m\u001b[38;5;124mbar\u001b[39m\u001b[38;5;124m'\u001b[39m, ax\u001b[38;5;241m=\u001b[39max)\n\u001b[0;32m     36\u001b[0m \u001b[38;5;66;03m# x축 레이블 회전 및 정렬\u001b[39;00m\n\u001b[1;32m---> 37\u001b[0m ax\u001b[38;5;241m.\u001b[39mset_xticks(sorted_mean\u001b[38;5;241m.\u001b[39mindex)\n\u001b[0;32m     38\u001b[0m ax\u001b[38;5;241m.\u001b[39mset_xticklabels(sorted_mean\u001b[38;5;241m.\u001b[39mindex\u001b[38;5;241m.\u001b[39mmap(WEEK_KOR), rotation\u001b[38;5;241m=\u001b[39m\u001b[38;5;241m45\u001b[39m, ha\u001b[38;5;241m=\u001b[39m\u001b[38;5;124m'\u001b[39m\u001b[38;5;124mright\u001b[39m\u001b[38;5;124m'\u001b[39m)\n\u001b[0;32m     40\u001b[0m \u001b[38;5;66;03m# 제목 및 레이블 설정\u001b[39;00m\n",
      "File \u001b[1;32mc:\\Users\\302-15\\anaconda3\\Lib\\site-packages\\matplotlib\\axes\\_base.py:74\u001b[0m, in \u001b[0;36m_axis_method_wrapper.__set_name__.<locals>.wrapper\u001b[1;34m(self, *args, **kwargs)\u001b[0m\n\u001b[0;32m     73\u001b[0m \u001b[38;5;28;01mdef\u001b[39;00m \u001b[38;5;21mwrapper\u001b[39m(\u001b[38;5;28mself\u001b[39m, \u001b[38;5;241m*\u001b[39margs, \u001b[38;5;241m*\u001b[39m\u001b[38;5;241m*\u001b[39mkwargs):\n\u001b[1;32m---> 74\u001b[0m     \u001b[38;5;28;01mreturn\u001b[39;00m get_method(\u001b[38;5;28mself\u001b[39m)(\u001b[38;5;241m*\u001b[39margs, \u001b[38;5;241m*\u001b[39m\u001b[38;5;241m*\u001b[39mkwargs)\n",
      "File \u001b[1;32mc:\\Users\\302-15\\anaconda3\\Lib\\site-packages\\matplotlib\\axis.py:2183\u001b[0m, in \u001b[0;36mAxis.set_ticks\u001b[1;34m(self, ticks, labels, minor, **kwargs)\u001b[0m\n\u001b[0;32m   2178\u001b[0m     first_key \u001b[38;5;241m=\u001b[39m \u001b[38;5;28mnext\u001b[39m(\u001b[38;5;28miter\u001b[39m(kwargs))\n\u001b[0;32m   2179\u001b[0m     \u001b[38;5;28;01mraise\u001b[39;00m \u001b[38;5;167;01mValueError\u001b[39;00m(\n\u001b[0;32m   2180\u001b[0m         \u001b[38;5;124mf\u001b[39m\u001b[38;5;124m\"\u001b[39m\u001b[38;5;124mIncorrect use of keyword argument \u001b[39m\u001b[38;5;132;01m{\u001b[39;00mfirst_key\u001b[38;5;132;01m!r}\u001b[39;00m\u001b[38;5;124m. Keyword arguments \u001b[39m\u001b[38;5;124m\"\u001b[39m\n\u001b[0;32m   2181\u001b[0m         \u001b[38;5;124m\"\u001b[39m\u001b[38;5;124mother than \u001b[39m\u001b[38;5;124m'\u001b[39m\u001b[38;5;124mminor\u001b[39m\u001b[38;5;124m'\u001b[39m\u001b[38;5;124m modify the text labels and can only be used if \u001b[39m\u001b[38;5;124m\"\u001b[39m\n\u001b[0;32m   2182\u001b[0m         \u001b[38;5;124m\"\u001b[39m\u001b[38;5;124m'\u001b[39m\u001b[38;5;124mlabels\u001b[39m\u001b[38;5;124m'\u001b[39m\u001b[38;5;124m are passed as well.\u001b[39m\u001b[38;5;124m\"\u001b[39m)\n\u001b[1;32m-> 2183\u001b[0m result \u001b[38;5;241m=\u001b[39m \u001b[38;5;28mself\u001b[39m\u001b[38;5;241m.\u001b[39m_set_tick_locations(ticks, minor\u001b[38;5;241m=\u001b[39mminor)\n\u001b[0;32m   2184\u001b[0m \u001b[38;5;28;01mif\u001b[39;00m labels \u001b[38;5;129;01mis\u001b[39;00m \u001b[38;5;129;01mnot\u001b[39;00m \u001b[38;5;28;01mNone\u001b[39;00m:\n\u001b[0;32m   2185\u001b[0m     \u001b[38;5;28mself\u001b[39m\u001b[38;5;241m.\u001b[39mset_ticklabels(labels, minor\u001b[38;5;241m=\u001b[39mminor, \u001b[38;5;241m*\u001b[39m\u001b[38;5;241m*\u001b[39mkwargs)\n",
      "File \u001b[1;32mc:\\Users\\302-15\\anaconda3\\Lib\\site-packages\\matplotlib\\axis.py:2123\u001b[0m, in \u001b[0;36mAxis._set_tick_locations\u001b[1;34m(self, ticks, minor)\u001b[0m\n\u001b[0;32m   2119\u001b[0m \u001b[38;5;28;01mdef\u001b[39;00m \u001b[38;5;21m_set_tick_locations\u001b[39m(\u001b[38;5;28mself\u001b[39m, ticks, \u001b[38;5;241m*\u001b[39m, minor\u001b[38;5;241m=\u001b[39m\u001b[38;5;28;01mFalse\u001b[39;00m):\n\u001b[0;32m   2120\u001b[0m     \u001b[38;5;66;03m# see docstring of set_ticks\u001b[39;00m\n\u001b[0;32m   2121\u001b[0m \n\u001b[0;32m   2122\u001b[0m     \u001b[38;5;66;03m# XXX if the user changes units, the information will be lost here\u001b[39;00m\n\u001b[1;32m-> 2123\u001b[0m     ticks \u001b[38;5;241m=\u001b[39m \u001b[38;5;28mself\u001b[39m\u001b[38;5;241m.\u001b[39mconvert_units(ticks)\n\u001b[0;32m   2124\u001b[0m     locator \u001b[38;5;241m=\u001b[39m mticker\u001b[38;5;241m.\u001b[39mFixedLocator(ticks)  \u001b[38;5;66;03m# validate ticks early.\u001b[39;00m\n\u001b[0;32m   2125\u001b[0m     \u001b[38;5;28;01mif\u001b[39;00m \u001b[38;5;28mlen\u001b[39m(ticks):\n",
      "File \u001b[1;32mc:\\Users\\302-15\\anaconda3\\Lib\\site-packages\\matplotlib\\axis.py:1815\u001b[0m, in \u001b[0;36mAxis.convert_units\u001b[1;34m(self, x)\u001b[0m\n\u001b[0;32m   1813\u001b[0m     ret \u001b[38;5;241m=\u001b[39m \u001b[38;5;28mself\u001b[39m\u001b[38;5;241m.\u001b[39mconverter\u001b[38;5;241m.\u001b[39mconvert(x, \u001b[38;5;28mself\u001b[39m\u001b[38;5;241m.\u001b[39munits, \u001b[38;5;28mself\u001b[39m)\n\u001b[0;32m   1814\u001b[0m \u001b[38;5;28;01mexcept\u001b[39;00m \u001b[38;5;167;01mException\u001b[39;00m \u001b[38;5;28;01mas\u001b[39;00m e:\n\u001b[1;32m-> 1815\u001b[0m     \u001b[38;5;28;01mraise\u001b[39;00m munits\u001b[38;5;241m.\u001b[39mConversionError(\u001b[38;5;124m'\u001b[39m\u001b[38;5;124mFailed to convert value(s) to axis \u001b[39m\u001b[38;5;124m'\u001b[39m\n\u001b[0;32m   1816\u001b[0m                                  \u001b[38;5;124mf\u001b[39m\u001b[38;5;124m'\u001b[39m\u001b[38;5;124munits: \u001b[39m\u001b[38;5;132;01m{\u001b[39;00mx\u001b[38;5;132;01m!r}\u001b[39;00m\u001b[38;5;124m'\u001b[39m) \u001b[38;5;28;01mfrom\u001b[39;00m \u001b[38;5;21;01me\u001b[39;00m\n\u001b[0;32m   1817\u001b[0m \u001b[38;5;28;01mreturn\u001b[39;00m ret\n",
      "\u001b[1;31mConversionError\u001b[0m: Failed to convert value(s) to axis units: Index(['목', '수', '화', '금', '월', '토', '일'], dtype='object', name='요일')"
     ]
    },
    {
     "data": {
      "image/png": "[encoded data removed]",
      "text/plain": [
       "<Figure size 1000x600 with 1 Axes>"
      ]
     },
     "metadata": {},
     "output_type": "display_data"
    }
   ],
   "source": [
    "import pandas as pd\n",
    "from datetime import datetime\n",
    "import matplotlib.pyplot as plt\n",
    "\n",
    "# 요일을 한국어로 매핑하는 딕셔너리\n",
    "WEEK_KOR = {0: \"월\", 1: \"화\", 2: \"수\", 3: \"목\", 4: \"금\", 5: \"토\", 6: \"일\"}\n",
    "\n",
    "def load_csv(path: str) -> pd.DataFrame:\n",
    "    \"\"\"pandas를 이용하여 path의 데이터를 DataFrame의 형태로 반환합니다.\"\"\"\n",
    "    df = pd.read_csv(path)\n",
    "    return df\n",
    "\n",
    "def cvt_to_datetime(df: pd.DataFrame) -> pd.DataFrame:\n",
    "    \"\"\"df의 DateTime 칼럼을 datetime 형태로 변환합니다.\"\"\"\n",
    "    df['DateTime'] = pd.to_datetime(df['DateTime'])\n",
    "    return df\n",
    "\n",
    "def add_dayofweek(df: pd.DataFrame) -> pd.DataFrame:\n",
    "    \"\"\"df에 DateTime 칼럼의 요일이 저장된 '요일' 칼럼을 새로 추가합니다.\"\"\"\n",
    "    df['요일'] = df['DateTime'].dt.weekday.map(WEEK_KOR)\n",
    "    return df\n",
    "\n",
    "def get_mean_consumption(df: pd.DataFrame) -> pd.Series:\n",
    "    \"\"\"df의 요일별 전력 소비량의 평균을 구하여 반환합니다.\"\"\"\n",
    "    mean_consumption = df.groupby('요일')['Consumption'].mean()\n",
    "    return mean_consumption\n",
    "\n",
    "def plot_consumption(mean_consumption: pd.Series):\n",
    "    \"\"\"요일별 전력 소비량의 평균을 그래프로 그립니다.\"\"\"\n",
    "    # 내림차순으로 정렬\n",
    "    sorted_mean = mean_consumption.sort_values(ascending=False)\n",
    "    \n",
    "    fig, ax = plt.subplots(figsize=(10, 6))\n",
    "    sorted_mean.plot(kind='bar', ax=ax)\n",
    "    \n",
    "    # x축 레이블 회전 및 정렬\n",
    "    ax.set_xticks(sorted_mean.index)\n",
    "    ax.set_xticklabels(sorted_mean.index.map(WEEK_KOR), rotation=45, ha='right')\n",
    "    \n",
    "    # 제목 및 레이블 설정\n",
    "    ax.set_title('요일별 전력 소비량 평균')\n",
    "    ax.set_xlabel('요일')\n",
    "    ax.set_ylabel('전력 소비량')\n",
    "    \n",
    "    # 그래프 출력\n",
    "    plt.tight_layout()\n",
    "    plt.show()\n",
    "\n",
    "def main():\n",
    "    # 데이터 경로\n",
    "    data_path = \"data/electronic.csv\"\n",
    "    \n",
    "    # 데이터 불러오기\n",
    "    df = load_csv(data_path)\n",
    "    \n",
    "    # DateTime 칼럼을 datetime 형태로 변환\n",
    "    df = cvt_to_datetime(df)\n",
    "    \n",
    "    # 요일 칼럼 추가\n",
    "    df = add_dayofweek(df)\n",
    "    \n",
    "    # 요일별 전력 소비량의 평균 구하기\n",
    "    mean_consumption = get_mean_consumption(df)\n",
    "    \n",
    "    # 그래프 그리기\n",
    "    plot_consumption(mean_consumption)\n",
    "\n",
    "if __name__ == \"__main__\":\n",
    "    main()\n"
   ]
  },
  {
   "cell_type": "code",
   "execution_count": 32,
   "metadata": {},
   "outputs": [],
   "source": [
    "def plot_consumption(mean_consumption: pd.Series):\n",
    "    \"\"\"요일별 전력 소비량의 평균을 그래프로 그립니다.\"\"\"\n",
    "    # 내림차순으로 정렬\n",
    "    sorted_mean = mean_consumption.sort_values(ascending=False)\n",
    "    \n",
    "    # 그래프 그리기\n",
    "    fig, ax = plt.subplots(figsize=(10, 6))\n",
    "    sorted_mean.plot(kind='bar', ax=ax)\n",
    "    \n",
    "    # x축 눈금 설정\n",
    "    ax.set_xticks(sorted_mean.index)\n",
    "    \n",
    "    # x축 레이블 설정\n",
    "    ax.set_xticklabels(sorted_mean.index.map(WEEK_KOR), rotation=45, ha='right')\n",
    "    \n",
    "    # 제목 및 레이블 설정\n",
    "    ax.set_title('요일별 전력 소비량 평균')\n",
    "    ax.set_xlabel('요일')\n",
    "    ax.set_ylabel('전력 소비량')\n",
    "    \n",
    "    # 그래프 출력\n",
    "    plt.tight_layout()\n",
    "    plt.show()\n"
   ]
  }
 ],
 "metadata": {
  "kernelspec": {
   "display_name": "base",
   "language": "python",
   "name": "python3"
  },
  "language_info": {
   "codemirror_mode": {
    "name": "ipython",
    "version": 3
   },
   "file_extension": ".py",
   "mimetype": "text/x-python",
   "name": "python",
   "nbconvert_exporter": "python",
   "pygments_lexer": "ipython3",
   "version": "3.12.7"
  }
 },
 "nbformat": 4,
 "nbformat_minor": 2
}
