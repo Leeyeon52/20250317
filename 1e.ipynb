{
 "cells": [
  {
   "cell_type": "code",
   "execution_count": null,
   "metadata": {},
   "outputs": [],
   "source": [
    "import numpy as np\n",
    "import pandas as pd\n",
    "import matplotlib.pyplot as pit"
   ]
  },
  {
   "cell_type": "code",
   "execution_count": null,
   "metadata": {},
   "outputs": [],
   "source": [
    "import matplotlib.font_manager as fm\n",
    "\n",
    "for font in fm.findSystemFonts():\n",
    "    if \"Nannanum-barun-gothic\" in font:\n",
    "        print(font)"
   ]
  },
  {
   "cell_type": "code",
   "execution_count": null,
   "metadata": {},
   "outputs": [],
   "source": [
    "import matplotlib.font_manager as fm\n",
    "\n",
    "for font in fm.findSystemFonts():\n",
    "    if \"nanum-barun-gothic\" in font:\n",
    "        print(font)  # 설치된 나눔 폰트 경로 출력\n"
   ]
  },
  {
   "cell_type": "code",
   "execution_count": null,
   "metadata": {},
   "outputs": [],
   "source": [
    "print(font)"
   ]
  },
  {
   "cell_type": "code",
   "execution_count": null,
   "metadata": {},
   "outputs": [],
   "source": [
    "import matplotlib.pyplot as plt\n",
    "import matplotlib.font_manager as fm\n",
    "\n",
    "# 폰트 경로 (반드시 따옴표 사용!)\n",
    "font_path = \"C:/Users/302-15/AppData/Local/Microsoft/Windows/Fonts/NanumBarunGothicLight.ttf\"  # 방법 1\n",
    "# font_path = r\"C:\\Users\\302-15\\AppData\\Local\\Microsoft\\Windows\\Fonts\\NanumBarunGothicLight.ttf\"  # 방법 2 (raw string)\n",
    "\n",
    "# 폰트 추가\n",
    "fm.fontManager.addfont(font_path)\n",
    "\n",
    "# 폰트 적용\n",
    "plt.rc('font', family='NanumBarunGothic')\n",
    "\n",
    "# 테스트 출력\n",
    "plt.text(0.5, 0.5, \"안녕하세요! 나눔바른고딕 Light 폰트입니다.\", fontsize=20, ha='center')\n",
    "plt.show()\n",
    "\n"
   ]
  },
  {
   "cell_type": "code",
   "execution_count": null,
   "metadata": {},
   "outputs": [],
   "source": [
    "!apt install -y fonts-nanum\n",
    "!fc-cache -fv\n",
    "\n",
    "applyfont = \"NanumBarunGothic\"\n",
    "\n",
    "import matplotlib.font_manager as fm\n",
    "if not any(map(lambda ft: ft.name == applyfont, fm.fontManager.ttflist)):\n",
    "  fm.fontManager.addfont(\"C:/Users/302-15/AppData/Local/Microsoft/Windows/Fonts/NanumBarunGothicLight.ttf\")\n",
    "\n",
    "plt.rc(\"font\", family=applyfont)\n",
    "plt.rc(\"axes\", unicode_minus=False)"
   ]
  },
  {
   "cell_type": "code",
   "execution_count": null,
   "metadata": {},
   "outputs": [],
   "source": [
    "dat = pd.Series({'가': 3, '나': 5, '다': 7})\n",
    "\n",
    "plt.bar(dat.index, dat)\n",
    "plt.title(\"한글 사용 테스트\")\n",
    "plt.show()"
   ]
  },
  {
   "cell_type": "code",
   "execution_count": null,
   "metadata": {},
   "outputs": [],
   "source": [
    "df_covid = pd.read_csv('seoul_covid19.csv')\n",
    "df_covid"
   ]
  },
  {
   "cell_type": "code",
   "execution_count": null,
   "metadata": {},
   "outputs": [],
   "source": [
    "df_covid.columns"
   ]
  },
  {
   "cell_type": "code",
   "execution_count": null,
   "metadata": {},
   "outputs": [],
   "source": [
    "len(df_covid.columns)"
   ]
  },
  {
   "cell_type": "code",
   "execution_count": null,
   "metadata": {},
   "outputs": [],
   "source": [
    "df_covid.info()"
   ]
  },
  {
   "cell_type": "code",
   "execution_count": null,
   "metadata": {},
   "outputs": [],
   "source": [
    "len(df_covid)"
   ]
  },
  {
   "cell_type": "code",
   "execution_count": null,
   "metadata": {},
   "outputs": [],
   "source": [
    "covid_per_day = df_covid['확진일'].value_counts()\n",
    "covid_per_day"
   ]
  },
  {
   "cell_type": "code",
   "execution_count": null,
   "metadata": {},
   "outputs": [],
   "source": [
    "covid_per_day.sort_values(ascending=False).head()"
   ]
  },
  {
   "cell_type": "code",
   "execution_count": null,
   "metadata": {},
   "outputs": [],
   "source": [
    "covid_per_day[covid_per_day == covid_per_day.max()]"
   ]
  },
  {
   "cell_type": "code",
   "execution_count": null,
   "metadata": {},
   "outputs": [],
   "source": [
    "pit.plot(covid_per_day)\n",
    "pit.show"
   ]
  },
  {
   "cell_type": "code",
   "execution_count": null,
   "metadata": {},
   "outputs": [],
   "source": [
    "pit.plot(covid_per_day)\n",
    "\n",
    "pit.title('COVID-19 infected per day')\n",
    "pit.xlabel('Date')\n",
    "pit.ylabel('Number of infected people')\n",
    "pit.xticks(covid_per_day.index[::100])\n",
    "\n",
    "pit.show"
   ]
  },
  {
   "cell_type": "code",
   "execution_count": null,
   "metadata": {},
   "outputs": [],
   "source": [
    "covid_per_area = df_covid['지역'].value_counts()\n",
    "covid_per_area"
   ]
  },
  {
   "cell_type": "code",
   "execution_count": null,
   "metadata": {},
   "outputs": [],
   "source": [
    "colors = pd.Series('gray',index=covid_per_area.index)\n",
    "colors['관악구'] = 'blue'\n",
    "\n",
    "pit.bar(covid_per_area.index, covid_per_area,color=colors)\n"
   ]
  },
  {
   "cell_type": "code",
   "execution_count": null,
   "metadata": {},
   "outputs": [],
   "source": [
    "import matplotlib.pyplot as plt\n",
    "import matplotlib.font_manager as fm\n",
    "\n",
    "# 폰트 경로 (반드시 따옴표 사용!)\n",
    "font_path = \"C:/Users/302-15/AppData/Local/Microsoft/Windows/Fonts/NanumBarunGothicLight.ttf\"  # 방법 1\n",
    "# font_path = r\"C:\\Users\\302-15\\AppData\\Local\\Microsoft\\Windows\\Fonts\\NanumBarunGothicLight.ttf\"  # 방법 2 (raw string)\n",
    "\n",
    "# 폰트 추가\n",
    "fm.fontManager.addfont(font_path)\n",
    "\n",
    "# 폰트 적용\n",
    "plt.rc('font', family='NanumBarunGothic')\n",
    "\n",
    "# 테스트 출력\n",
    "plt.text(0.5, 0.5, \"안녕하세요! 나눔바른고딕 Light 폰트입니다.\", fontsize=20, ha='center')\n",
    "plt.show()\n"
   ]
  },
  {
   "cell_type": "code",
   "execution_count": null,
   "metadata": {},
   "outputs": [],
   "source": [
    "import chardet\n",
    "\n",
    "file_path = \"한국환경공단_도로 재비산먼지 측정 정보_20250228_cng.csv\"  # 파일 경로\n",
    "\n",
    "# 파일의 일부(최대 1MB)만 읽어서 인코딩 분석\n",
    "with open(file_path, \"rb\") as f:\n",
    "    rawdata = f.read(1000000)  # 일부만 읽기\n",
    "    result = chardet.detect(rawdata)  # 인코딩 감지\n",
    "\n",
    "print(result)"
   ]
  },
  {
   "cell_type": "code",
   "execution_count": null,
   "metadata": {},
   "outputs": [],
   "source": [
    "import pandas as pd\n",
    "\n",
    "file_path = \"한국환경공단_도로 재비산먼지 측정정보_20210331_cng.csv\"\n",
    "\n",
    "# 감지된 인코딩 (예: 'EUC-KR' 또는 'CP949' 등으로 변경)\n",
    "df = pd.read_csv(file_path, encoding=\"cp949\")  # 또는 encoding=\"euc-kr\"\n",
    "\n",
    "print(df.head())"
   ]
  },
  {
   "cell_type": "code",
   "execution_count": null,
   "metadata": {},
   "outputs": [],
   "source": [
    "df.to_csv(\"한국환경공단_도로 재비산먼지 측정 정보_20250228 _cng.csv\", encoding=\"utf-8-sig\", index=False)"
   ]
  },
  {
   "cell_type": "code",
   "execution_count": null,
   "metadata": {},
   "outputs": [],
   "source": [
    "df1 = pd.read_csv('한국환경공단_도로 재비산먼지 측정 정보_20250228 _cng.csv')\n",
    "df1"
   ]
  },
  {
   "cell_type": "code",
   "execution_count": null,
   "metadata": {},
   "outputs": [],
   "source": [
    "df2 = pd.read_csv(\"한국환경공단_도로 재비산먼지 측정 정보_20250228_cng.csv\")\n",
    "df2 = pd.read_csv"
   ]
  },
  {
   "cell_type": "code",
   "execution_count": null,
   "metadata": {},
   "outputs": [],
   "source": [
    "import os\n",
    "\n",
    "print(\"현재 작업 디렉터리:\", os.getcwd())  # 현재 디렉터리 확인\n",
    "print(\"파일 목록:\", os.listdir())"
   ]
  },
  {
   "cell_type": "code",
   "execution_count": null,
   "metadata": {},
   "outputs": [],
   "source": [
    "file_path = r\"C:\\Users\\302-15\\Downloads\\한국환경공단_도로 재비산먼지 측정 정보_20250228_cng.csv\"\n"
   ]
  },
  {
   "cell_type": "code",
   "execution_count": null,
   "metadata": {},
   "outputs": [],
   "source": [
    "import os\n",
    "\n",
    "file_path = \"C:/Users/302-15/Downloads/한국환경공단_도로 재비산먼지 측정 정보_20250228_cng.csv\"\n",
    "\n",
    "if os.path.exists(file_path):\n",
    "    print(\"파일이 존재합니다!\")\n",
    "else:\n",
    "    print(\"파일이 존재하지 않습니다. 경로를 확인하세요.\")\n"
   ]
  },
  {
   "cell_type": "code",
   "execution_count": null,
   "metadata": {},
   "outputs": [],
   "source": [
    "import os\n",
    "\n",
    "folder_path = \"C:/Users/302-15/Downloads\"  # 파일이 있는 폴더 경로\n",
    "\n",
    "print(\"해당 폴더의 파일 목록:\")\n",
    "print(os.listdir(folder_path))  # 폴더 안의 파일 목록 출력\n"
   ]
  },
  {
   "cell_type": "code",
   "execution_count": null,
   "metadata": {},
   "outputs": [],
   "source": [
    "import pandas as pd\n",
    "\n",
    "file_path = \"C:/Users/302-15/Downloads/한국환경공단_도로 재비산먼지 측정 정보_20250228_cng.csv\"\n",
    "\n",
    "df = pd.read_csv(file_path, encoding=\"utf-8-sig\")  # 인코딩은 필요에 따라 변경\n",
    "print(df.head())  # 데이터 확인\n"
   ]
  },
  {
   "cell_type": "code",
   "execution_count": null,
   "metadata": {},
   "outputs": [],
   "source": [
    "import os\n",
    "\n",
    "folder_path = \"C:/Users/302-15/Downloads\"\n",
    "\n",
    "if os.path.exists(folder_path):\n",
    "    print(\"폴더가 존재합니다. 파일 목록:\")\n",
    "    print(os.listdir(folder_path))  # 폴더 안의 파일 목록 출력\n",
    "else:\n",
    "    print(\"폴더가 존재하지 않습니다. 경로를 확인하세요.\")\n"
   ]
  },
  {
   "cell_type": "code",
   "execution_count": null,
   "metadata": {},
   "outputs": [],
   "source": [
    "file_path = r\"C:\\Users\\302-15\\Desktop\\한국환경공단_도로 재비산먼지.csv\"\n"
   ]
  },
  {
   "cell_type": "code",
   "execution_count": null,
   "metadata": {},
   "outputs": [],
   "source": [
    "file_path = r\"C:\\Users\\302-15\\Downloads\\한국환경공단_도로 재비산먼지 측정 정보_20250228_cng.csv\"\n",
    "\n",
    "if os.path.exists(file_path):\n",
    "    print(\"파일이 존재합니다!\")\n",
    "else:\n",
    "    print(\"파일이 존재하지 않습니다. 경로를 확인하세요.\")"
   ]
  },
  {
   "cell_type": "code",
   "execution_count": null,
   "metadata": {},
   "outputs": [],
   "source": [
    "file_path = r\"C:\\Users\\302-15\\Downloads\\한국환경공단_도로 재비산먼지 측정 정보_20250228_cng.CSV\"\n"
   ]
  },
  {
   "cell_type": "code",
   "execution_count": null,
   "metadata": {},
   "outputs": [],
   "source": [
    "file_path = r\"C:\\temp\\한국환경공단_도로 재비산먼지.csv\"\n"
   ]
  },
  {
   "cell_type": "code",
   "execution_count": null,
   "metadata": {},
   "outputs": [],
   "source": [
    "if os.path.exists(file_path):\n",
    "    print(\"파일이 존재합니다!\")\n",
    "else:\n",
    "    print(\"파일이 존재하지 않습니다. 다시 확인하세요.\")\n"
   ]
  },
  {
   "cell_type": "code",
   "execution_count": null,
   "metadata": {},
   "outputs": [],
   "source": [
    "df2 = pd.read_csv('한국환경공단_도로 재비산먼지 측정정보_20210331_cng.csv')\n",
    "df2"
   ]
  },
  {
   "cell_type": "code",
   "execution_count": null,
   "metadata": {},
   "outputs": [],
   "source": [
    "df1.head(10)"
   ]
  },
  {
   "cell_type": "code",
   "execution_count": null,
   "metadata": {},
   "outputs": [],
   "source": [
    "df1.tail(10)"
   ]
  },
  {
   "cell_type": "code",
   "execution_count": null,
   "metadata": {},
   "outputs": [],
   "source": [
    "df2.head(10)"
   ]
  },
  {
   "cell_type": "code",
   "execution_count": null,
   "metadata": {},
   "outputs": [],
   "source": [
    "df2.tail(10)"
   ]
  },
  {
   "cell_type": "code",
   "execution_count": null,
   "metadata": {},
   "outputs": [],
   "source": [
    "len(df1)"
   ]
  },
  {
   "cell_type": "code",
   "execution_count": null,
   "metadata": {},
   "outputs": [],
   "source": [
    "len(df1)"
   ]
  },
  {
   "cell_type": "code",
   "execution_count": null,
   "metadata": {},
   "outputs": [],
   "source": [
    "df = pd.concat([df1, df2], ignore_index=True)\n",
    "df"
   ]
  },
  {
   "cell_type": "code",
   "execution_count": null,
   "metadata": {},
   "outputs": [],
   "source": [
    "df.isnull().sum()"
   ]
  },
  {
   "cell_type": "code",
   "execution_count": null,
   "metadata": {},
   "outputs": [],
   "source": [
    "df_old = df"
   ]
  },
  {
   "cell_type": "code",
   "execution_count": null,
   "metadata": {},
   "outputs": [],
   "source": [
    "df_old"
   ]
  },
  {
   "cell_type": "code",
   "execution_count": null,
   "metadata": {},
   "outputs": [],
   "source": [
    "df = df.fillna(value=df.mean())\n",
    "df"
   ]
  },
  {
   "cell_type": "code",
   "execution_count": null,
   "metadata": {},
   "outputs": [],
   "source": [
    "df[df_old[\"습도 (%)\"].isnull()]"
   ]
  },
  {
   "cell_type": "code",
   "execution_count": null,
   "metadata": {},
   "outputs": [],
   "source": [
    "df[df_old[\"기온 (℃)\"].isnull()]"
   ]
  },
  {
   "cell_type": "code",
   "execution_count": null,
   "metadata": {},
   "outputs": [],
   "source": [
    "df = df.fillna(df.mean())\n",
    "df"
   ]
  },
  {
   "cell_type": "code",
   "execution_count": null,
   "metadata": {},
   "outputs": [],
   "source": [
    "import pandas as pd\n",
    "\n",
    "pd.set_option(\"display.max_rows\", None)  # 모든 행 출력\n",
    "pd.set_option(\"display.max_columns\", None)  # 모든 열 출력\n",
    "pd.set_option(\"display.max_colwidth\", None)  # 긴 문자열도 모두 표시\n"
   ]
  },
  {
   "cell_type": "code",
   "execution_count": null,
   "metadata": {},
   "outputs": [],
   "source": [
    "values = {'기온 (℃)' : df['기온 (℃)'].mean(), '습도 (%)' : df['습도 (%)'].mean()}\n",
    "values"
   ]
  },
  {
   "cell_type": "code",
   "execution_count": null,
   "metadata": {},
   "outputs": [],
   "source": [
    "df = df.fillna(value = values)\n",
    "df"
   ]
  },
  {
   "cell_type": "code",
   "execution_count": null,
   "metadata": {},
   "outputs": [],
   "source": [
    "col_x = \"기온 (℃)\"\n",
    "col_y = \"습도 (%)\"\n",
    "col_size = \"재비산먼지 평균농도(㎍/㎥)\"\n",
    "\n",
    "plt.scatter(df[col_x], df[col_y], s=df[col_size] / 20)\n",
    "plt.show()"
   ]
  },
  {
   "cell_type": "code",
   "execution_count": null,
   "metadata": {},
   "outputs": [],
   "source": [
    "col_x = \"기온 (℃)\"\n",
    "col_y = \"습도 (%)\"\n",
    "col_size = \"재비산먼지 평균농도(㎍/㎥)\"\n",
    "\n",
    "plt.scatter(df[col_x], df[col_y], s=df[col_size] / 20)\n",
    "plt.title(\"기온과 습도, 그리고 재비산먼지의 관계\")\n",
    "plt.xlabel(col_x)\n",
    "plt.ylabel(col_y)\n",
    "\n",
    "plt.show()"
   ]
  },
  {
   "cell_type": "code",
   "execution_count": null,
   "metadata": {},
   "outputs": [],
   "source": [
    "covid_per_area = df_covid[\"지역\"].value_counts()\n",
    "\n",
    "fig = plt.figure(figsize=(16, 9))\n",
    "\n",
    "# 색깔\n",
    "colors = pd.Series(\"gray\", index=covid_per_area.index)\n",
    "colors[\"관악구\"] = \"red\"\n",
    "\n",
    "# 돌출\n",
    "explode = pd.Series(0.0, index=covid_per_area.index)\n",
    "explode[\"관악구\"] = 0.2\n",
    "\n",
    "plt.pie(covid_per_area, labels=covid_per_area.index, \n",
    "        autopct = '%.2f%%', pctdistance=0.8, \n",
    "        colors=colors, explode=explode, radius=0.8)\n",
    "\n",
    "plt.title(\"지역별 확진자수\", fontsize=20)\n",
    "plt.legend(covid_per_area.index, loc=(1, 0.1))\n",
    "\n",
    "plt.show()"
   ]
  }
 ],
 "metadata": {
  "kernelspec": {
   "display_name": "base",
   "language": "python",
   "name": "python3"
  },
  "language_info": {
   "codemirror_mode": {
    "name": "ipython",
    "version": 3
   },
   "file_extension": ".py",
   "mimetype": "text/x-python",
   "name": "python",
   "nbconvert_exporter": "python",
   "pygments_lexer": "ipython3",
   "version": "3.12.7"
  }
 },
 "nbformat": 4,
 "nbformat_minor": 2
}
